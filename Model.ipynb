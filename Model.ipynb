{
 "cells": [
  {
   "cell_type": "code",
   "execution_count": 77,
   "metadata": {
    "ExecuteTime": {
     "end_time": "2020-10-13T15:42:45.576661Z",
     "start_time": "2020-10-13T15:42:45.569410Z"
    }
   },
   "outputs": [],
   "source": [
    "import numpy as np\n",
    "import pandas as pd\n",
    "import seaborn as sns\n",
    "import matplotlib.pyplot as plt\n",
    "from sklearn.utils import resample\n",
    "from sklearn.linear_model import LogisticRegression\n",
    "from sklearn.ensemble import RandomForestClassifier\n",
    "from sklearn.naive_bayes import GaussianNB\n",
    "from sklearn.metrics import accuracy_score, recall_score, f1_score, confusion_matrix\n",
    "from sklearn.model_selection import RandomizedSearchCV, GridSearchCV\n",
    "from sklearn.preprocessing import StandardScaler\n",
    "from sklearn.model_selection import RepeatedKFold\n",
    "from sklearn.model_selection import cross_val_score, cross_validate\n",
    "\n",
    "# Some functions created for graphing & data manipulation\n",
    "from clean_functions import convertAge, convertSalary, convertChildren, childrenOrNotInUniverse, bar_charts, dataPrep\n",
    "\n",
    "# To use SQL functionality\n",
    "from pandasql import sqldf\n",
    "pysqldf = lambda q: sqldf(q, globals())"
   ]
  },
  {
   "cell_type": "markdown",
   "metadata": {},
   "source": [
    "## Reading In Data"
   ]
  },
  {
   "cell_type": "code",
   "execution_count": 2,
   "metadata": {
    "ExecuteTime": {
     "end_time": "2020-10-13T14:55:27.309409Z",
     "start_time": "2020-10-13T14:55:23.997424Z"
    }
   },
   "outputs": [],
   "source": [
    "# Setting header to none, as there are no column titles\n",
    "train_data = pd.read_csv('./census_income_learn.csv', header=None)\n",
    "train_data['source'] = 'train'\n",
    "\n",
    "test_data = pd.read_csv('./census_income_test.csv', header=None)\n",
    "test_data['source'] = 'test'\n",
    "\n",
    "data = pd.concat([train_data, test_data])"
   ]
  },
  {
   "cell_type": "code",
   "execution_count": 3,
   "metadata": {
    "ExecuteTime": {
     "end_time": "2020-10-13T14:56:45.923871Z",
     "start_time": "2020-10-13T14:56:44.674669Z"
    }
   },
   "outputs": [
    {
     "name": "stdout",
     "output_type": "stream",
     "text": [
      "potential duplicates: 4112\n"
     ]
    }
   ],
   "source": [
    "duplicate_no = len(data) - len(data.drop_duplicates())\n",
    "print('potential duplicates:', duplicate_no)\n",
    "\n",
    "# with no unique ID its hard to tell if people are being counted twice. \n",
    "# Model gave higher test scores without dropping\n",
    "# data = data.drop_duplicates()"
   ]
  },
  {
   "cell_type": "code",
   "execution_count": null,
   "metadata": {
    "ExecuteTime": {
     "end_time": "2020-10-13T14:56:56.107195Z",
     "start_time": "2020-10-13T14:56:55.437365Z"
    }
   },
   "outputs": [],
   "source": [
    "# Confusion over number of variables and names, comparing unique values to last section of metadata\n",
    "for i in range(42):\n",
    "    print('Column', i)\n",
    "    print(data[i].unique())\n",
    "    print('')\n",
    "# For readability purpose, not printing this"
   ]
  },
  {
   "cell_type": "code",
   "execution_count": 6,
   "metadata": {
    "ExecuteTime": {
     "end_time": "2020-10-13T14:56:59.430852Z",
     "start_time": "2020-10-13T14:56:59.421630Z"
    }
   },
   "outputs": [
    {
     "name": "stdout",
     "output_type": "stream",
     "text": [
      "43\n"
     ]
    }
   ],
   "source": [
    "# Creating column names and assigning to train and test df\n",
    "headers = ['Age', 'Class of Worker', 'detailed industry recode', 'detailed occupation recode',\n",
    "          'education', 'wage per hour', 'enroll in edu inst last wk', 'marital stat',\n",
    "          'major industry code', 'major occupation code', 'race', 'hispanic origin', 'sex',\n",
    "          'member of a labor union', 'reason for unemployment', 'full or part time employment stat',\n",
    "          'capital gains', 'capital losses', 'dividends from stocks', 'tax filer stat', \n",
    "          'region of previous residence', 'state of previous residence',\n",
    "          'detailed household and family stat', 'detailed household summary in household',\n",
    "          'instance weight', 'migration code-change in msa', 'migration code-move within reg',\n",
    "          'migration code-change in reg', 'live in this house 1 year ago',\n",
    "          'migration prev res in sunbelt', 'num persons worked for employer',\n",
    "          'family members under 18', 'country of birth father', 'country of birth mother',\n",
    "          'country of birth self', 'citizenship', 'own business or self employed',\n",
    "          'fill inc questionnaire for veterans admin', 'veterans benefits', 'weeks worked in year',\n",
    "          'year', 'salary', 'source']\n",
    "\n",
    "print(len(headers))\n",
    "data.columns = headers"
   ]
  },
  {
   "cell_type": "markdown",
   "metadata": {},
   "source": [
    "## Exploratory Analysis"
   ]
  },
  {
   "cell_type": "code",
   "execution_count": null,
   "metadata": {
    "ExecuteTime": {
     "end_time": "2020-10-13T14:57:04.353433Z",
     "start_time": "2020-10-13T14:57:02.952091Z"
    },
    "tags": [
     "outputPrepend"
    ]
   },
   "outputs": [],
   "source": [
    "# looking at value counts to get better idea of how missing data is handled\n",
    "for i in headers:\n",
    "    print(i)\n",
    "    print(data[i].value_counts())\n",
    "    print('')"
   ]
  },
  {
   "cell_type": "code",
   "execution_count": 8,
   "metadata": {
    "ExecuteTime": {
     "end_time": "2020-10-13T14:57:16.731449Z",
     "start_time": "2020-10-13T14:57:05.556903Z"
    }
   },
   "outputs": [
    {
     "name": "stdout",
     "output_type": "stream",
     "text": [
      "<class 'pandas.core.frame.DataFrame'>\n",
      "Int64Index: 176230 entries, 0 to 99760\n",
      "Data columns (total 43 columns):\n",
      "Age                                          176230 non-null object\n",
      "Class of Worker                              128268 non-null object\n",
      "detailed industry recode                     176230 non-null int64\n",
      "detailed occupation recode                   176230 non-null int64\n",
      "education                                    176230 non-null object\n",
      "wage per hour                                176230 non-null int64\n",
      "enroll in edu inst last wk                   9388 non-null object\n",
      "marital stat                                 176230 non-null object\n",
      "major industry code                          128090 non-null object\n",
      "major occupation code                        128090 non-null object\n",
      "race                                         176230 non-null object\n",
      "hispanic origin                              176230 non-null object\n",
      "sex                                          176230 non-null object\n",
      "member of a labor union                      25266 non-null object\n",
      "reason for unemployment                      6401 non-null object\n",
      "full or part time employment stat            176230 non-null object\n",
      "capital gains                                176230 non-null int64\n",
      "capital losses                               176230 non-null int64\n",
      "dividends from stocks                        176230 non-null int64\n",
      "tax filer stat                               176230 non-null object\n",
      "region of previous residence                 14128 non-null object\n",
      "state of previous residence                  14128 non-null object\n",
      "detailed household and family stat           176230 non-null object\n",
      "detailed household summary in household      176230 non-null object\n",
      "instance weight                              176230 non-null float64\n",
      "migration code-change in msa                 176230 non-null object\n",
      "migration code-move within reg               176230 non-null object\n",
      "migration code-change in reg                 176230 non-null object\n",
      "live in this house 1 year ago                176230 non-null object\n",
      "migration prev res in sunbelt                102413 non-null object\n",
      "num persons worked for employer              176230 non-null int64\n",
      "family members under 18                      449 non-null object\n",
      "country of birth father                      176230 non-null object\n",
      "country of birth mother                      176230 non-null object\n",
      "country of birth self                        176230 non-null object\n",
      "citizenship                                  176230 non-null object\n",
      "own business or self employed                176230 non-null int64\n",
      "fill inc questionnaire for veterans admin    2325 non-null object\n",
      "veterans benefits                            176230 non-null int64\n",
      "weeks worked in year                         176230 non-null int64\n",
      "year                                         176230 non-null int64\n",
      "salary                                       176230 non-null int64\n",
      "source                                       176230 non-null object\n",
      "dtypes: float64(1), int64(12), object(30)\n",
      "memory usage: 59.2+ MB\n"
     ]
    }
   ],
   "source": [
    "# Converting All Children or Not in universe values to NaN and banding age groups\n",
    "data_2 = data.copy()\n",
    "data_2['education'] = data_2['education'].apply(lambda x: convertChildren(x))\n",
    "data_2['Age'] = data_2['Age'].apply(lambda x: convertAge(x))\n",
    "data_2['salary'] = data_2['salary'].apply(lambda x: convertSalary(x))\n",
    "data_2 = data_2.applymap(lambda x: childrenOrNotInUniverse(x))\n",
    "data_2 = data_2.dropna(subset = [\"education\"])\n",
    "data_2.info()"
   ]
  },
  {
   "cell_type": "code",
   "execution_count": null,
   "metadata": {
    "ExecuteTime": {
     "end_time": "2020-10-13T14:58:29.845854Z",
     "start_time": "2020-10-13T14:58:21.186689Z"
    }
   },
   "outputs": [],
   "source": [
    "# Variables which didn't have a significant portion missing, and made sense in predicting salary\n",
    "categoric = ['Age', 'Class of Worker', 'education', 'marital stat', 'race', 'sex',\n",
    "            'full or part time employment stat', 'num persons worked for employer',\n",
    "            'country of birth self', 'citizenship', 'own business or self employed',\n",
    "            'major industry code', 'major occupation code']\n",
    "\n",
    "for i in categoric:\n",
    "    print(i)\n",
    "    bar_charts(i, data=data_2, hue=\"salary\")\n",
    "    print('')\n",
    "    \n",
    "# Thought it was weird that employment stat had a value \"children or armed forces\" \n",
    "# but i've excluded children so it should just be armed forces"
   ]
  },
  {
   "cell_type": "code",
   "execution_count": 10,
   "metadata": {
    "ExecuteTime": {
     "end_time": "2020-10-13T14:58:47.753872Z",
     "start_time": "2020-10-13T14:58:32.754657Z"
    }
   },
   "outputs": [
    {
     "data": {
      "image/png": "[encoded data removed]",
      "text/plain": [
       "<Figure size 864x576 with 2 Axes>"
      ]
     },
     "metadata": {
      "needs_background": "light"
     },
     "output_type": "display_data"
    }
   ],
   "source": [
    "# Checking correlation between occupation and industry\n",
    "q = \"\"\"\n",
    "SELECT \n",
    "\"major industry code\",\n",
    "\"major occupation code\",\n",
    "count(*) as count\n",
    "FROM\n",
    "data_2\n",
    "GROUP BY 1,2\n",
    "\"\"\"\n",
    "\n",
    "test_corr = pysqldf(q).dropna()\n",
    "test_corr = test_corr.pivot(index=\"major industry code\", \n",
    "                            columns=\"major occupation code\", \n",
    "                            values=\"count\")\n",
    "\n",
    "plt.figure(figsize=(12,8))\n",
    "ax = sns.heatmap(test_corr)\n",
    "plt.show()\n",
    "\n",
    "# I'm not worried about measuring the same thing twice here, most of the occupations have a mixture of industries"
   ]
  },
  {
   "cell_type": "markdown",
   "metadata": {},
   "source": [
    "## Data Modelling\n",
    "#### Logistic Regression & Random Forest Approach"
   ]
  },
  {
   "cell_type": "code",
   "execution_count": 11,
   "metadata": {
    "ExecuteTime": {
     "end_time": "2020-10-13T14:58:53.568032Z",
     "start_time": "2020-10-13T14:58:53.557502Z"
    }
   },
   "outputs": [
    {
     "name": "stdout",
     "output_type": "stream",
     "text": [
      "salary over $50,000:\n",
      "0    158101\n",
      "1     18129\n",
      "Name: salary, dtype: int64\n",
      "\n"
     ]
    }
   ],
   "source": [
    "# Handling Class Imbalance - Upsampling needed for over $50,000 group\n",
    "print('salary over $50,000:')\n",
    "print(data_2.salary.value_counts())\n",
    "print('')"
   ]
  },
  {
   "cell_type": "code",
   "execution_count": 12,
   "metadata": {
    "ExecuteTime": {
     "end_time": "2020-10-13T15:10:49.309314Z",
     "start_time": "2020-10-13T15:10:49.303927Z"
    }
   },
   "outputs": [],
   "source": [
    "model_variables = ['Age', \n",
    "                  'Class of Worker', \n",
    "                  'education', \n",
    "                  'marital stat', \n",
    "                  'race', \n",
    "                  'sex',\n",
    "                  'full or part time employment stat', \n",
    "                  'num persons worked for employer',\n",
    "                  'own business or self employed', \n",
    "                  'major industry code', \n",
    "                  'major occupation code', \n",
    "                  'salary', \n",
    "                  'source',\n",
    "#                   'hispanic origin'\n",
    "                  'tax filer stat'\n",
    "                  ]\n",
    "   "
   ]
  },
  {
   "cell_type": "code",
   "execution_count": null,
   "metadata": {},
   "outputs": [],
   "source": [
    "def sixFoldCVScore(model, x, y):\n",
    "    cv = RepeatedKFold(n_splits=3, n_repeats=2, random_state=1)\n",
    "    scoring = ['accuracy', 'precision', 'recall', 'f1']\n",
    "    scores = cross_validate(model, x, y, scoring=scoring, cv=cv, n_jobs=-1)\n",
    "    print('accuracy:', round(np.average(scores['test_accuracy']),3))\n",
    "    print('precision:', round(np.average(scores['test_precision']),3))\n",
    "    print('recall:', round(np.average(scores['test_recall']),3))\n",
    "    print('f1:', round(np.average(scores['test_f1']),3))"
   ]
  },
  {
   "cell_type": "code",
   "execution_count": 69,
   "metadata": {},
   "outputs": [
    {
     "name": "stdout",
     "output_type": "stream",
     "text": [
      "accuracy: 0.91\n",
      "precision: 0.67\n",
      "recall: 0.34\n",
      "f1: 0.45\n"
     ]
    }
   ],
   "source": [
    "sixFoldCVScore(lr, test_x, test_y)"
   ]
  },
  {
   "cell_type": "markdown",
   "metadata": {},
   "source": [
    "## Logistic Regression"
   ]
  },
  {
   "cell_type": "code",
   "execution_count": 73,
   "metadata": {
    "ExecuteTime": {
     "end_time": "2020-10-13T16:42:45.417356Z",
     "start_time": "2020-10-13T16:42:10.384503Z"
    }
   },
   "outputs": [
    {
     "name": "stdout",
     "output_type": "stream",
     "text": [
      "Logistic Regression w/o upsample\n",
      "accuracy: 0.91\n",
      "precision: 0.67\n",
      "recall: 0.34\n",
      "f1: 0.45\n",
      "\n",
      "Logistic Regression with upsample\n",
      "accuracy: 0.81\n",
      "precision: 0.8\n",
      "recall: 0.83\n",
      "f1: 0.81\n",
      "\n"
     ]
    }
   ],
   "source": [
    "print(\"Logistic Regression w/o upsample\")\n",
    "train_x, test_x, train_y, test_y, column_names = dataPrep(data_2, \n",
    "                                                          model_variables, \n",
    "                                                          upsample=False,\n",
    "                                                          scale=False)\n",
    "\n",
    "lr = LogisticRegression(max_iter=10000).fit(train_x, train_y)\n",
    "sixFoldCVScore(lr, test_x, test_y)\n",
    "print('')\n",
    "\n",
    "print(\"Logistic Regression with upsample\")\n",
    "train_x, test_x, train_y, test_y, column_names = dataPrep(data_2, \n",
    "                                                          model_variables,\n",
    "                                                          drop_first=True,\n",
    "                                                          scale=True)\n",
    "\n",
    "lr = LogisticRegression(max_iter=10000).fit(train_x, train_y)\n",
    "sixFoldCVScore(lr, test_x, test_y)\n",
    "print('')"
   ]
  },
  {
   "cell_type": "code",
   "execution_count": 74,
   "metadata": {
    "ExecuteTime": {
     "end_time": "2020-10-13T16:42:57.651845Z",
     "start_time": "2020-10-13T16:42:57.633581Z"
    }
   },
   "outputs": [
    {
     "name": "stdout",
     "output_type": "stream",
     "text": [
      "highest positive coefficients\n",
      "                                                  var     coeff\n",
      "6                                         Age_45 - 50  0.730616\n",
      "7                                         Age_50 - 55  0.706053\n",
      "5                                         Age_40 - 45  0.657102\n",
      "69  major occupation code_ Executive admin and man...  0.655395\n",
      "9                                         Age_60 - 70  0.648290\n",
      "38                                          sex_ Male  0.632960\n",
      "25  education_ Masters degree(MA MS MEng MEd MSW MBA)  0.622953\n",
      "4                                         Age_35 - 40  0.619981\n",
      "22              education_ Bachelors degree(BA AB BS)  0.603765\n",
      "8                                         Age_55 - 60  0.593300\n",
      "26  education_ Prof school degree (MD DDS DVM LLB JD)  0.570040\n",
      "76      major occupation code_ Professional specialty  0.556891\n",
      "10                                        Age_70 - 80  0.508927\n",
      "23               education_ Doctorate degree(PhD EdD)  0.487555\n",
      "3                                         Age_30 - 35  0.460763\n",
      "\n",
      "lowest negative coefficients\n",
      "                                                  var     coeff\n",
      "44  full or part time employment stat_ Unemployed ... -0.049670\n",
      "73               major occupation code_ Other service -0.051463\n",
      "28           marital stat_ Married-A F spouse present -0.065392\n",
      "75  major occupation code_ Private household services -0.071611\n",
      "60  major industry code_ Personal services except ... -0.078908\n",
      "31                        marital stat_ Never married -0.082570\n",
      "85                             tax filer stat_ Single -0.087050\n",
      "12                                            Age_<20 -0.093282\n",
      "13                  Class of Worker_ Local government -0.105250\n",
      "64               major industry code_ Social services -0.113935\n",
      "18                  Class of Worker_ State government -0.134719\n",
      "63                  major industry code_ Retail trade -0.213360\n",
      "50                     major industry code_ Education -0.225811\n",
      "29      marital stat_ Married-civilian spouse present -0.278645\n",
      "84                           tax filer stat_ Nonfiler -0.502530\n",
      "\n"
     ]
    }
   ],
   "source": [
    "coeffs = pd.DataFrame(list(zip(column_names, lr.coef_[0])), \n",
    "                      columns=['var','coeff'])\n",
    "\n",
    "print('highest positive coefficients')\n",
    "print(coeffs.sort_values(by='coeff',ascending=False).head(15))\n",
    "print('')\n",
    "\n",
    "print('lowest negative coefficients')\n",
    "print(coeffs.sort_values(by='coeff',ascending=False).tail(15))\n",
    "print('')"
   ]
  },
  {
   "cell_type": "markdown",
   "metadata": {
    "ExecuteTime": {
     "end_time": "2020-10-09T18:36:52.196712Z",
     "start_time": "2020-10-09T18:36:52.193324Z"
    }
   },
   "source": [
    "## Random Forest"
   ]
  },
  {
   "cell_type": "code",
   "execution_count": 85,
   "metadata": {},
   "outputs": [
    {
     "data": {
      "text/plain": [
       "{'max_depth': 17, 'max_features': 0.4, 'min_samples_leaf': 6}"
      ]
     },
     "execution_count": 85,
     "metadata": {},
     "output_type": "execute_result"
    }
   ],
   "source": [
    "train_x, test_x, train_y, test_y, column_names = dataPrep(data_2, model_variables, drop_first=False)\n",
    "\n",
    "param_grid={'max_depth': [17, 19, 21], \n",
    "            'max_features': [0.4, 0.5, 0.6],\n",
    "            'min_samples_leaf': [4, 5, 6]\n",
    "           }\n",
    "\n",
    "clf = GridSearchCV(rf, \n",
    "                   param_grid=param_grid, \n",
    "                   scoring='f1',\n",
    "                   n_jobs=-1,\n",
    "                   cv=5)\n",
    "\n",
    "search = clf.fit(train_x, train_y)\n",
    "search.best_params_"
   ]
  },
  {
   "cell_type": "code",
   "execution_count": 87,
   "metadata": {},
   "outputs": [],
   "source": [
    "# # test1 = search.best_params_\n",
    "# test2 = "
   ]
  },
  {
   "cell_type": "code",
   "execution_count": 86,
   "metadata": {
    "ExecuteTime": {
     "end_time": "2020-10-13T15:13:19.752212Z",
     "start_time": "2020-10-13T15:11:38.753441Z"
    }
   },
   "outputs": [
    {
     "name": "stdout",
     "output_type": "stream",
     "text": [
      "Random Forest with base classes\n",
      "accuracy: 0.82\n",
      "precision: 0.8\n",
      "recall: 0.84\n",
      "f1: 0.82\n",
      "\n",
      "Random Forest with no base classes\n",
      "accuracy: 0.87\n",
      "precision: 0.85\n",
      "recall: 0.9\n",
      "f1: 0.87\n",
      "\n"
     ]
    }
   ],
   "source": [
    "print(\"Random Forest with base classes\")\n",
    "train_x, test_x, train_y, test_y, column_names = dataPrep(data_2, model_variables, drop_first=True)\n",
    "\n",
    "rf = RandomForestClassifier(max_depth=12, \n",
    "                            max_features=0.2, \n",
    "                            min_samples_leaf=15).fit(train_x, train_y)\n",
    "sixFoldCVScore(rf, test_x, test_y)\n",
    "print('')\n",
    "\n",
    "print(\"Random Forest with no base classes\")\n",
    "train_x, test_x, train_y, test_y, column_names = dataPrep(data_2, model_variables)\n",
    "\n",
    "rf = RandomForestClassifier(max_depth=17, \n",
    "                            max_features=0.4, \n",
    "                            min_samples_leaf=6).fit(train_x, train_y)\n",
    "sixFoldCVScore(rf, test_x, test_y)\n",
    "print('')"
   ]
  },
  {
   "cell_type": "markdown",
   "metadata": {},
   "source": [
    "## Bayesian Model"
   ]
  },
  {
   "cell_type": "code",
   "execution_count": 62,
   "metadata": {},
   "outputs": [
    {
     "name": "stdout",
     "output_type": "stream",
     "text": [
      "Naive Bayes with no base classes\n",
      "accuracy: 0.6593159467420002\n",
      "precision: 0.5996085977748086\n",
      "recall: 0.9551259562824597\n",
      "f1: 0.7367157726112845\n",
      "\n"
     ]
    }
   ],
   "source": [
    "print(\"Naive Bayes with no base classes\")\n",
    "train_x, test_x, train_y, test_y, column_names = dataPrep(data_2, \n",
    "                                                          model_variables,\n",
    "                                                          upsample=True)\n",
    "\n",
    "gnb = GaussianNB()\n",
    "gnb.fit(train_x, train_y)\n",
    "pred_y = gnb.predict(test_x)\n",
    "sixFoldCVScore(gnb, test_x, test_y)\n",
    "print('')"
   ]
  }
 ],
 "metadata": {
  "celltoolbar": "Edit Metadata",
  "kernelspec": {
   "display_name": "Python 3",
   "language": "python",
   "name": "python3"
  },
  "language_info": {
   "codemirror_mode": {
    "name": "ipython",
    "version": 3
   },
   "file_extension": ".py",
   "mimetype": "text/x-python",
   "name": "python",
   "nbconvert_exporter": "python",
   "pygments_lexer": "ipython3",
   "version": "3.7.1"
  }
 },
 "nbformat": 4,
 "nbformat_minor": 2
}
